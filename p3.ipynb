{
 "cells": [
  {
   "cell_type": "markdown",
   "metadata": {},
   "source": [
    "# Phase III of INFO2950 Project\n",
    "### by Aida Sarinzhipova (as3764) and Kyuman Kim (kk946)\n",
    "\n",
    "**Preregistration of analyses**\n",
    "<br>\n",
    "Preregister at least two analyses that you vow to present in your final report, no matter the results (significant or not).\n",
    "- Do not perform these analyses, check they are significant, and then “preregister” them. That defeats the purpose. You can learn a lot from associations that are not statistically significant!\n",
    "- Keep in mind that for your final report, you must provide at least one model showing patterns or relationships between variables that addresses your research question.\n",
    "\n",
    "Submit an executed Jupyter notebook (.ipynb) file on CMS with your preregistration. Include a “Questions for reviewers” section at the end of your submission, listing specific questions for your project mentor to answer in giving you feedback on this phase."
   ]
  },
  {
   "cell_type": "markdown",
   "metadata": {},
   "source": [
    "## Preregistration of analyses\n",
    "\n",
    "1. Multivariable regression with dependent variables as revenue created (financial success) and reputation/public ranking (success in popularity), with release date as an independent variable by each genre.\n",
    "2. Compare the budget and the revenue raised by each individual genre. We will create a regression model predicting the revenue that would be raise with a certain amount of budget. We will then verify the result by comparing our estimation to actual budgets and revenue from past movies with multiple genres. \n",
    "\n",
    "Hopefully, the model turn out to be statistically significant. If so, we would be able to figure out which genre generate the most value considering the budget that was put into it. We would also see which combination of genres would be most profitable considering the trend. People in the movie industry would be able to take our research into account when they decide what kind of artistic components they should add to their film in order to make it as profitable as possible.", 
    "\n",
    "## Questions for reviewers:\n",
    "\n",
    "1. Do you think that the analysis types we chose will be effective in terms of giving us a deeper insight into the importance of movie genres, or should we try to incorporate another major analysis that is not linear regression?\n",
    "2. Since each movie in our dataset has at most 5 genres it can belong to, do you think that our results would be biased if we will categorize movies based on only the first genre that is displayed in the dataset (for our regression models)?\n".
   ]
  }
 ],
 "metadata": {
  "kernelspec": {
   "display_name": "Python 3",
   "language": "python",
   "name": "python3"
  },
  "language_info": {
   "codemirror_mode": {
    "name": "ipython",
    "version": 3
   },
   "file_extension": ".py",
   "mimetype": "text/x-python",
   "name": "python",
   "nbconvert_exporter": "python",
   "pygments_lexer": "ipython3",
   "version": "3.8.3"
  }
 },
 "nbformat": 4,
 "nbformat_minor": 4
}
