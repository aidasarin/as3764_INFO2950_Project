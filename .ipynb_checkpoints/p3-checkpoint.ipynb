{
 "cells": [
  {
   "cell_type": "markdown",
   "metadata": {},
   "source": [
    "# Phase III of INFO2950 Project\n",
    "### by Aida Sarinzhipova (as3764) and Kyuman Kim (kk946)\n",
    "\n",
    "**Preregistration of analyses**\n",
    "<br>\n",
    "Preregister at least two analyses that you vow to present in your final report, no matter the results (significant or not).\n",
    "- Do not perform these analyses, check they are significant, and then “preregister” them. That defeats the purpose. You can learn a lot from associations that are not statistically significant!\n",
    "- Keep in mind that for your final report, you must provide at least one model showing patterns or relationships between variables that addresses your research question.\n",
    "\n",
    "Submit an executed Jupyter notebook (.ipynb) file on CMS with your preregistration. Include a “Questions for reviewers” section at the end of your submission, listing specific questions for your project mentor to answer in giving you feedback on this phase."
   ]
  },
  {
   "cell_type": "markdown",
   "metadata": {},
   "source": [
    "## Preregistration of analyses\n",
    "\n",
    "1. Our report will include a multivariable linear regression with the generated revenue (financial success of a movie) and the movie reputation/public ranking (success in popularity) as predictors, and with the release year by genre as the outcome. We want to have the scatterplot depicting the datapoints and the best-fit regression slope (possibly multiple slopes corresponding to each movie genre). This genre-specific relationship between the release year and the revenue with ranking will potentially help us establish the popularity trends of movie genres over time. Thus, we would be a big step closer to accurately answering our main research question.\n",
    "2. The second analysis will be another linear regression that will primarily compare the budget and the revenue raised by each individual genre. We will create a regression model predicting movie revenue produced depending on a specific amount of budget. To evaluate the accuracy of the model, we will verify the results by comparing our estimations to the actual budgets and revenues of past movies with multiple genres. Essentially, we could see how successful a movie within a certain genre can be depending on the initial investment the producers make, as well as how strongly that relationship varies from one genre to another.\n",
    "\n",
    "Hopefully, the models will turn out to be statistically significant. In other words, we would interpret data and see how relevant the results are for answering our research questions. If the models are statistically significant, we would be able to figure out which genre generates the highest monetary value considering the budget that was put into it. We would also see which combination of genres would be most profitable considering the trend. People in the movie industry can positively benefit from our research and take our results into account if they are deciding what kind of artistic components they should add to their film in order to make it as profitable as possible. Also, by seeing the genre trends over time, movie directors or well-paid actors could make a more informed decision about what kind of movie they should produce, sponsor, or take a part in."
   ]
  },
  {
   "cell_type": "markdown",
   "metadata": {},
   "source": [
    "## Our hypothesis:\n",
    "\n",
    "We assume that one of 'Drama', 'Comedy', or movies is the most trending movie genre in the film industry these days, since those genres have the highest and the second highest popularity score respectively, by a huge lead ('Comedy' has 385 unit difference in popularity score between the third popular genre)."
   ]
  },
  {
   "cell_type": "markdown",
   "metadata": {},
   "source": [
    "## Questions for reviewers:\n",
    "\n",
    "1. Do you think that the analysis types we chose will be effective in terms of giving us a deeper insight into the importance of movie genres, or should we try to incorporate another major analysis that is not linear regression?\n",
    "2. Since each movie in our dataset has at most 5 genres it can belong to, do you think that our results would be biased if we will categorize movies based on only the first genre that is displayed in the dataset (for our regression models)?\n",
    "3. Should we weigh more significance the voting average of movies with more vote counts, or would that be unnecessary since there enough number of votes for all the movies?"
   ]
  }
 ],
 "metadata": {
  "kernelspec": {
   "display_name": "Python 3",
   "language": "python",
   "name": "python3"
  },
  "language_info": {
   "codemirror_mode": {
    "name": "ipython",
    "version": 3
   },
   "file_extension": ".py",
   "mimetype": "text/x-python",
   "name": "python",
   "nbconvert_exporter": "python",
   "pygments_lexer": "ipython3",
   "version": "3.8.3"
  }
 },
 "nbformat": 4,
 "nbformat_minor": 4
}
